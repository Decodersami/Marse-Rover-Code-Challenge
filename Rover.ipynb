{
 "cells": [
  {
   "cell_type": "code",
   "execution_count": 3,
   "metadata": {},
   "outputs": [
    {
     "name": "stdout",
     "output_type": "stream",
     "text": [
      "1 3 N\n",
      "5 1 E\n"
     ]
    }
   ],
   "source": [
    "class Rover:\n",
    "    def __init__(self, x, y, direction):\n",
    "        self.x = x\n",
    "        self.y = y\n",
    "        self.direction = direction\n",
    "\n",
    "    def move(self):\n",
    "        if self.direction == 'N':\n",
    "            self.y += 1\n",
    "        elif self.direction == 'E':\n",
    "            self.x += 1\n",
    "        elif self.direction == 'S':\n",
    "            self.y -= 1\n",
    "        elif self.direction == 'W':\n",
    "            self.x -= 1\n",
    "\n",
    "    def turn_left(self):\n",
    "        directions = 'WNES'\n",
    "        self.direction = directions[(directions.index(self.direction) + 1) % 4]\n",
    "\n",
    "    def turn_right(self):\n",
    "        directions = 'NESW'\n",
    "        self.direction = directions[(directions.index(self.direction) + 1) % 4]\n",
    "\n",
    "    def execute_commands(self, commands):\n",
    "        for command in commands:\n",
    "            if command == 'M':\n",
    "                self.move()\n",
    "            elif command == 'L':\n",
    "                self.turn_left()\n",
    "            elif command == 'R':\n",
    "                self.turn_right()\n",
    "\n",
    "    def __str__(self):\n",
    "        return f\"{self.x} {self.y} {self.direction}\"\n",
    "\n",
    "def process_input(input_str):\n",
    "    lines = input_str.split('\\n')\n",
    "    plateau = tuple(map(int, lines[0].split()))\n",
    "    rovers = []\n",
    "    \n",
    "    for i in range(1, len(lines), 2):\n",
    "        position = lines[i].split()\n",
    "        rover = Rover(int(position[0]), int(position[1]), position[2])\n",
    "        commands = lines[i+1]\n",
    "        rovers.append((rover, commands))\n",
    "    \n",
    "    return plateau, rovers\n",
    "\n",
    "def main():\n",
    "    input_str = \"5 5\\n1 2 N\\nLMLMLMLMM\\n3 3 E\\nMMRMMRMRRM\"\n",
    "    plateau, rovers = process_input(input_str)\n",
    "    \n",
    "    for rover, commands in rovers:\n",
    "        rover.execute_commands(commands)\n",
    "        print(rover)\n",
    "\n",
    "if __name__ == \"__main__\":\n",
    "    main()"
   ]
  }
 ],
 "metadata": {
  "kernelspec": {
   "display_name": "Python 3",
   "language": "python",
   "name": "python3"
  },
  "language_info": {
   "codemirror_mode": {
    "name": "ipython",
    "version": 3
   },
   "file_extension": ".py",
   "mimetype": "text/x-python",
   "name": "python",
   "nbconvert_exporter": "python",
   "pygments_lexer": "ipython3",
   "version": "3.12.2"
  }
 },
 "nbformat": 4,
 "nbformat_minor": 2
}
